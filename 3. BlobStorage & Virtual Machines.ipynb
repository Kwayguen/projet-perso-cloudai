{
 "cells": [
  {
   "cell_type": "markdown",
   "metadata": {
    "id": "NiOoCp6O37Ho"
   },
   "source": [
    "<img src='https://cdn-dynmedia-1.microsoft.com/is/image/microsoftcorp/Introduction-to-Azure-Blob-Storage_tbmnl_en-us?scl=1'>\n",
    "\n",
    "\n",
    "\n",
    "Sources = https://learn.microsoft.com/en-us/azure/storage/blobs/storage-blob-python-get-started?tabs=azure-ad\n",
    "\n",
    "### Installation des packages nécessaires\n",
    "\n",
    "`pip install azure-storage-blob`"
   ]
  },
  {
   "cell_type": "markdown",
   "metadata": {
    "id": "G9-IW0Q337Hp"
   },
   "source": [
    "### Importation des packages"
   ]
  },
  {
   "cell_type": "code",
   "execution_count": 1,
   "metadata": {
    "executionInfo": {
     "elapsed": 845,
     "status": "ok",
     "timestamp": 1738753039550,
     "user": {
      "displayName": "Kévin Duranty",
      "userId": "17936416485008719452"
     },
     "user_tz": -60
    },
    "id": "jYdY7A8137Hp"
   },
   "outputs": [],
   "source": [
    "from azure.storage.blob import BlobServiceClient\n",
    "\n",
    "\n",
    "storage_account_key = \"Le0Dpnlg95cbFwrludgvxTqwZ4hMpVRWUGhiQCFLD2fp2ryykoFClHDxzV1EYRAk3jTZ4zVI4ddf+AStimo1Mw==\"\n",
    "storage_account_name = \"ynovfunckevin\"\n",
    "connection_string = \"DefaultEndpointsProtocol=https;AccountName=ynovfunckevin;AccountKey=Le0Dpnlg95cbFwrludgvxTqwZ4hMpVRWUGhiQCFLD2fp2ryykoFClHDxzV1EYRAk3jTZ4zVI4ddf+AStimo1Mw==;EndpointSuffix=core.windows.net\"\n",
    "container_name = \"storageynov\""
   ]
  },
  {
   "cell_type": "markdown",
   "metadata": {
    "id": "GBdhXB6437Hq"
   },
   "source": [
    "### Upload d'un fichier"
   ]
  },
  {
   "cell_type": "code",
   "execution_count": 5,
   "metadata": {
    "colab": {
     "base_uri": "https://localhost:8080/"
    },
    "executionInfo": {
     "elapsed": 325,
     "status": "ok",
     "timestamp": 1738753091054,
     "user": {
      "displayName": "Kévin Duranty",
      "userId": "17936416485008719452"
     },
     "user_tz": -60
    },
    "id": "37A7V_qA37Hq",
    "outputId": "c645bb78-e7b8-4488-bbac-481494c78f56"
   },
   "outputs": [
    {
     "ename": "ResourceExistsError",
     "evalue": "The specified blob already exists.\nRequestId:012cb564-e01e-00c2-1451-79f454000000\nTime:2025-02-07T11:13:03.7040028Z\nErrorCode:BlobAlreadyExists\nContent: <?xml version=\"1.0\" encoding=\"utf-8\"?><Error><Code>BlobAlreadyExists</Code><Message>The specified blob already exists.\nRequestId:012cb564-e01e-00c2-1451-79f454000000\nTime:2025-02-07T11:13:03.7040028Z</Message></Error>",
     "output_type": "error",
     "traceback": [
      "\u001b[1;31m---------------------------------------------------------------------------\u001b[0m",
      "\u001b[1;31mResourceExistsError\u001b[0m                       Traceback (most recent call last)",
      "Cell \u001b[1;32mIn[5], line 10\u001b[0m\n\u001b[0;32m      7\u001b[0m       \u001b[38;5;28mprint\u001b[39m(\u001b[38;5;124mf\u001b[39m\u001b[38;5;124m\"\u001b[39m\u001b[38;5;124mUploaded \u001b[39m\u001b[38;5;132;01m{\u001b[39;00mfile_name\u001b[38;5;132;01m}\u001b[39;00m\u001b[38;5;124m.\u001b[39m\u001b[38;5;124m\"\u001b[39m)\n\u001b[0;32m      9\u001b[0m \u001b[38;5;66;03m# calling a function to perform upload\u001b[39;00m\n\u001b[1;32m---> 10\u001b[0m \u001b[43muploadToBlobStorage\u001b[49m\u001b[43m(\u001b[49m\u001b[38;5;124;43m'\u001b[39;49m\u001b[38;5;124;43mimg.jpg\u001b[39;49m\u001b[38;5;124;43m'\u001b[39;49m\u001b[43m,\u001b[49m\u001b[38;5;124;43m'\u001b[39;49m\u001b[38;5;124;43mimg1\u001b[39;49m\u001b[38;5;124;43m'\u001b[39;49m\u001b[43m)\u001b[49m\n",
      "Cell \u001b[1;32mIn[5], line 6\u001b[0m, in \u001b[0;36muploadToBlobStorage\u001b[1;34m(file_path, file_name)\u001b[0m\n\u001b[0;32m      4\u001b[0m blob_client \u001b[38;5;241m=\u001b[39m blob_service_client\u001b[38;5;241m.\u001b[39mget_blob_client(container\u001b[38;5;241m=\u001b[39mcontainer_name, blob\u001b[38;5;241m=\u001b[39mfile_name)\n\u001b[0;32m      5\u001b[0m \u001b[38;5;28;01mwith\u001b[39;00m \u001b[38;5;28mopen\u001b[39m(file_path,\u001b[38;5;124m\"\u001b[39m\u001b[38;5;124mrb\u001b[39m\u001b[38;5;124m\"\u001b[39m) \u001b[38;5;28;01mas\u001b[39;00m data:\n\u001b[1;32m----> 6\u001b[0m    \u001b[43mblob_client\u001b[49m\u001b[38;5;241;43m.\u001b[39;49m\u001b[43mupload_blob\u001b[49m\u001b[43m(\u001b[49m\u001b[43mdata\u001b[49m\u001b[43m)\u001b[49m\n\u001b[0;32m      7\u001b[0m    \u001b[38;5;28mprint\u001b[39m(\u001b[38;5;124mf\u001b[39m\u001b[38;5;124m\"\u001b[39m\u001b[38;5;124mUploaded \u001b[39m\u001b[38;5;132;01m{\u001b[39;00mfile_name\u001b[38;5;132;01m}\u001b[39;00m\u001b[38;5;124m.\u001b[39m\u001b[38;5;124m\"\u001b[39m)\n",
      "File \u001b[1;32md:\\DEV\\dossier\\venv\\lib\\site-packages\\azure\\core\\tracing\\decorator.py:105\u001b[0m, in \u001b[0;36mdistributed_trace.<locals>.decorator.<locals>.wrapper_use_tracer\u001b[1;34m(*args, **kwargs)\u001b[0m\n\u001b[0;32m    103\u001b[0m span_impl_type \u001b[38;5;241m=\u001b[39m settings\u001b[38;5;241m.\u001b[39mtracing_implementation()\n\u001b[0;32m    104\u001b[0m \u001b[38;5;28;01mif\u001b[39;00m span_impl_type \u001b[38;5;129;01mis\u001b[39;00m \u001b[38;5;28;01mNone\u001b[39;00m:\n\u001b[1;32m--> 105\u001b[0m     \u001b[38;5;28;01mreturn\u001b[39;00m func(\u001b[38;5;241m*\u001b[39margs, \u001b[38;5;241m*\u001b[39m\u001b[38;5;241m*\u001b[39mkwargs)\n\u001b[0;32m    107\u001b[0m \u001b[38;5;66;03m# Merge span is parameter is set, but only if no explicit parent are passed\u001b[39;00m\n\u001b[0;32m    108\u001b[0m \u001b[38;5;28;01mif\u001b[39;00m merge_span \u001b[38;5;129;01mand\u001b[39;00m \u001b[38;5;129;01mnot\u001b[39;00m passed_in_parent:\n",
      "File \u001b[1;32md:\\DEV\\dossier\\venv\\lib\\site-packages\\azure\\storage\\blob\\_blob_client.py:605\u001b[0m, in \u001b[0;36mBlobClient.upload_blob\u001b[1;34m(self, data, blob_type, length, metadata, **kwargs)\u001b[0m\n\u001b[0;32m    589\u001b[0m options \u001b[38;5;241m=\u001b[39m _upload_blob_options(\n\u001b[0;32m    590\u001b[0m     data\u001b[38;5;241m=\u001b[39mdata,\n\u001b[0;32m    591\u001b[0m     blob_type\u001b[38;5;241m=\u001b[39mblob_type,\n\u001b[1;32m   (...)\u001b[0m\n\u001b[0;32m    602\u001b[0m     client\u001b[38;5;241m=\u001b[39m\u001b[38;5;28mself\u001b[39m\u001b[38;5;241m.\u001b[39m_client,\n\u001b[0;32m    603\u001b[0m     \u001b[38;5;241m*\u001b[39m\u001b[38;5;241m*\u001b[39mkwargs)\n\u001b[0;32m    604\u001b[0m \u001b[38;5;28;01mif\u001b[39;00m blob_type \u001b[38;5;241m==\u001b[39m BlobType\u001b[38;5;241m.\u001b[39mBlockBlob:\n\u001b[1;32m--> 605\u001b[0m     \u001b[38;5;28;01mreturn\u001b[39;00m upload_block_blob(\u001b[38;5;241m*\u001b[39m\u001b[38;5;241m*\u001b[39moptions)\n\u001b[0;32m    606\u001b[0m \u001b[38;5;28;01mif\u001b[39;00m blob_type \u001b[38;5;241m==\u001b[39m BlobType\u001b[38;5;241m.\u001b[39mPageBlob:\n\u001b[0;32m    607\u001b[0m     \u001b[38;5;28;01mreturn\u001b[39;00m upload_page_blob(\u001b[38;5;241m*\u001b[39m\u001b[38;5;241m*\u001b[39moptions)\n",
      "File \u001b[1;32md:\\DEV\\dossier\\venv\\lib\\site-packages\\azure\\storage\\blob\\_upload_helpers.py:197\u001b[0m, in \u001b[0;36mupload_block_blob\u001b[1;34m(client, stream, overwrite, encryption_options, blob_settings, headers, validate_content, max_concurrency, length, **kwargs)\u001b[0m\n\u001b[0;32m    195\u001b[0m \u001b[38;5;28;01mexcept\u001b[39;00m HttpResponseError \u001b[38;5;28;01mas\u001b[39;00m error:\n\u001b[0;32m    196\u001b[0m     \u001b[38;5;28;01mtry\u001b[39;00m:\n\u001b[1;32m--> 197\u001b[0m         \u001b[43mprocess_storage_error\u001b[49m\u001b[43m(\u001b[49m\u001b[43merror\u001b[49m\u001b[43m)\u001b[49m\n\u001b[0;32m    198\u001b[0m     \u001b[38;5;28;01mexcept\u001b[39;00m ResourceModifiedError \u001b[38;5;28;01mas\u001b[39;00m mod_error:\n\u001b[0;32m    199\u001b[0m         \u001b[38;5;28;01mif\u001b[39;00m \u001b[38;5;129;01mnot\u001b[39;00m overwrite:\n",
      "File \u001b[1;32md:\\DEV\\dossier\\venv\\lib\\site-packages\\azure\\storage\\blob\\_shared\\response_handlers.py:186\u001b[0m, in \u001b[0;36mprocess_storage_error\u001b[1;34m(storage_error)\u001b[0m\n\u001b[0;32m    183\u001b[0m error\u001b[38;5;241m.\u001b[39margs \u001b[38;5;241m=\u001b[39m (error\u001b[38;5;241m.\u001b[39mmessage,)\n\u001b[0;32m    184\u001b[0m \u001b[38;5;28;01mtry\u001b[39;00m:\n\u001b[0;32m    185\u001b[0m     \u001b[38;5;66;03m# `from None` prevents us from double printing the exception (suppresses generated layer error context)\u001b[39;00m\n\u001b[1;32m--> 186\u001b[0m     \u001b[43mexec\u001b[49m\u001b[43m(\u001b[49m\u001b[38;5;124;43m\"\u001b[39;49m\u001b[38;5;124;43mraise error from None\u001b[39;49m\u001b[38;5;124;43m\"\u001b[39;49m\u001b[43m)\u001b[49m   \u001b[38;5;66;03m# pylint: disable=exec-used # nosec\u001b[39;00m\n\u001b[0;32m    187\u001b[0m \u001b[38;5;28;01mexcept\u001b[39;00m \u001b[38;5;167;01mSyntaxError\u001b[39;00m \u001b[38;5;28;01mas\u001b[39;00m exc:\n\u001b[0;32m    188\u001b[0m     \u001b[38;5;28;01mraise\u001b[39;00m error \u001b[38;5;28;01mfrom\u001b[39;00m\u001b[38;5;250m \u001b[39m\u001b[38;5;21;01mexc\u001b[39;00m\n",
      "File \u001b[1;32m<string>:1\u001b[0m\n",
      "File \u001b[1;32md:\\DEV\\dossier\\venv\\lib\\site-packages\\azure\\storage\\blob\\_upload_helpers.py:105\u001b[0m, in \u001b[0;36mupload_block_blob\u001b[1;34m(client, stream, overwrite, encryption_options, blob_settings, headers, validate_content, max_concurrency, length, **kwargs)\u001b[0m\n\u001b[0;32m    102\u001b[0m     encryption_data, data \u001b[38;5;241m=\u001b[39m encrypt_blob(data, encryption_options[\u001b[38;5;124m'\u001b[39m\u001b[38;5;124mkey\u001b[39m\u001b[38;5;124m'\u001b[39m], encryption_options[\u001b[38;5;124m'\u001b[39m\u001b[38;5;124mversion\u001b[39m\u001b[38;5;124m'\u001b[39m])\n\u001b[0;32m    103\u001b[0m     headers[\u001b[38;5;124m'\u001b[39m\u001b[38;5;124mx-ms-meta-encryptiondata\u001b[39m\u001b[38;5;124m'\u001b[39m] \u001b[38;5;241m=\u001b[39m encryption_data\n\u001b[1;32m--> 105\u001b[0m response \u001b[38;5;241m=\u001b[39m client\u001b[38;5;241m.\u001b[39mupload(\n\u001b[0;32m    106\u001b[0m     body\u001b[38;5;241m=\u001b[39mdata,  \u001b[38;5;66;03m# type: ignore [arg-type]\u001b[39;00m\n\u001b[0;32m    107\u001b[0m     content_length\u001b[38;5;241m=\u001b[39madjusted_count,\n\u001b[0;32m    108\u001b[0m     blob_http_headers\u001b[38;5;241m=\u001b[39mblob_headers,\n\u001b[0;32m    109\u001b[0m     headers\u001b[38;5;241m=\u001b[39mheaders,\n\u001b[0;32m    110\u001b[0m     \u001b[38;5;28mcls\u001b[39m\u001b[38;5;241m=\u001b[39mreturn_response_headers,\n\u001b[0;32m    111\u001b[0m     validate_content\u001b[38;5;241m=\u001b[39mvalidate_content,\n\u001b[0;32m    112\u001b[0m     data_stream_total\u001b[38;5;241m=\u001b[39madjusted_count,\n\u001b[0;32m    113\u001b[0m     upload_stream_current\u001b[38;5;241m=\u001b[39m\u001b[38;5;241m0\u001b[39m,\n\u001b[0;32m    114\u001b[0m     tier\u001b[38;5;241m=\u001b[39mtier\u001b[38;5;241m.\u001b[39mvalue \u001b[38;5;28;01mif\u001b[39;00m tier \u001b[38;5;28;01melse\u001b[39;00m \u001b[38;5;28;01mNone\u001b[39;00m,\n\u001b[0;32m    115\u001b[0m     blob_tags_string\u001b[38;5;241m=\u001b[39mblob_tags_string,\n\u001b[0;32m    116\u001b[0m     immutability_policy_expiry\u001b[38;5;241m=\u001b[39mimmutability_policy_expiry,\n\u001b[0;32m    117\u001b[0m     immutability_policy_mode\u001b[38;5;241m=\u001b[39mimmutability_policy_mode,\n\u001b[0;32m    118\u001b[0m     legal_hold\u001b[38;5;241m=\u001b[39mlegal_hold,\n\u001b[0;32m    119\u001b[0m     \u001b[38;5;241m*\u001b[39m\u001b[38;5;241m*\u001b[39mkwargs)\n\u001b[0;32m    121\u001b[0m \u001b[38;5;28;01mif\u001b[39;00m progress_hook:\n\u001b[0;32m    122\u001b[0m     progress_hook(adjusted_count, adjusted_count)\n",
      "File \u001b[1;32md:\\DEV\\dossier\\venv\\lib\\site-packages\\azure\\core\\tracing\\decorator.py:105\u001b[0m, in \u001b[0;36mdistributed_trace.<locals>.decorator.<locals>.wrapper_use_tracer\u001b[1;34m(*args, **kwargs)\u001b[0m\n\u001b[0;32m    103\u001b[0m span_impl_type \u001b[38;5;241m=\u001b[39m settings\u001b[38;5;241m.\u001b[39mtracing_implementation()\n\u001b[0;32m    104\u001b[0m \u001b[38;5;28;01mif\u001b[39;00m span_impl_type \u001b[38;5;129;01mis\u001b[39;00m \u001b[38;5;28;01mNone\u001b[39;00m:\n\u001b[1;32m--> 105\u001b[0m     \u001b[38;5;28;01mreturn\u001b[39;00m func(\u001b[38;5;241m*\u001b[39margs, \u001b[38;5;241m*\u001b[39m\u001b[38;5;241m*\u001b[39mkwargs)\n\u001b[0;32m    107\u001b[0m \u001b[38;5;66;03m# Merge span is parameter is set, but only if no explicit parent are passed\u001b[39;00m\n\u001b[0;32m    108\u001b[0m \u001b[38;5;28;01mif\u001b[39;00m merge_span \u001b[38;5;129;01mand\u001b[39;00m \u001b[38;5;129;01mnot\u001b[39;00m passed_in_parent:\n",
      "File \u001b[1;32md:\\DEV\\dossier\\venv\\lib\\site-packages\\azure\\storage\\blob\\_generated\\operations\\_block_blob_operations.py:883\u001b[0m, in \u001b[0;36mBlockBlobOperations.upload\u001b[1;34m(self, content_length, body, timeout, transactional_content_md5, metadata, tier, request_id_parameter, blob_tags_string, immutability_policy_expiry, immutability_policy_mode, legal_hold, transactional_content_crc64, structured_body_type, structured_content_length, blob_http_headers, lease_access_conditions, cpk_info, cpk_scope_info, modified_access_conditions, **kwargs)\u001b[0m\n\u001b[0;32m    880\u001b[0m response \u001b[38;5;241m=\u001b[39m pipeline_response\u001b[38;5;241m.\u001b[39mhttp_response\n\u001b[0;32m    882\u001b[0m \u001b[38;5;28;01mif\u001b[39;00m response\u001b[38;5;241m.\u001b[39mstatus_code \u001b[38;5;129;01mnot\u001b[39;00m \u001b[38;5;129;01min\u001b[39;00m [\u001b[38;5;241m201\u001b[39m]:\n\u001b[1;32m--> 883\u001b[0m     \u001b[43mmap_error\u001b[49m\u001b[43m(\u001b[49m\u001b[43mstatus_code\u001b[49m\u001b[38;5;241;43m=\u001b[39;49m\u001b[43mresponse\u001b[49m\u001b[38;5;241;43m.\u001b[39;49m\u001b[43mstatus_code\u001b[49m\u001b[43m,\u001b[49m\u001b[43m \u001b[49m\u001b[43mresponse\u001b[49m\u001b[38;5;241;43m=\u001b[39;49m\u001b[43mresponse\u001b[49m\u001b[43m,\u001b[49m\u001b[43m \u001b[49m\u001b[43merror_map\u001b[49m\u001b[38;5;241;43m=\u001b[39;49m\u001b[43merror_map\u001b[49m\u001b[43m)\u001b[49m\n\u001b[0;32m    884\u001b[0m     error \u001b[38;5;241m=\u001b[39m \u001b[38;5;28mself\u001b[39m\u001b[38;5;241m.\u001b[39m_deserialize\u001b[38;5;241m.\u001b[39mfailsafe_deserialize(_models\u001b[38;5;241m.\u001b[39mStorageError, pipeline_response)\n\u001b[0;32m    885\u001b[0m     \u001b[38;5;28;01mraise\u001b[39;00m HttpResponseError(response\u001b[38;5;241m=\u001b[39mresponse, model\u001b[38;5;241m=\u001b[39merror)\n",
      "File \u001b[1;32md:\\DEV\\dossier\\venv\\lib\\site-packages\\azure\\core\\exceptions.py:163\u001b[0m, in \u001b[0;36mmap_error\u001b[1;34m(status_code, response, error_map)\u001b[0m\n\u001b[0;32m    161\u001b[0m     \u001b[38;5;28;01mreturn\u001b[39;00m\n\u001b[0;32m    162\u001b[0m error \u001b[38;5;241m=\u001b[39m error_type(response\u001b[38;5;241m=\u001b[39mresponse)\n\u001b[1;32m--> 163\u001b[0m \u001b[38;5;28;01mraise\u001b[39;00m error\n",
      "\u001b[1;31mResourceExistsError\u001b[0m: The specified blob already exists.\nRequestId:012cb564-e01e-00c2-1451-79f454000000\nTime:2025-02-07T11:13:03.7040028Z\nErrorCode:BlobAlreadyExists\nContent: <?xml version=\"1.0\" encoding=\"utf-8\"?><Error><Code>BlobAlreadyExists</Code><Message>The specified blob already exists.\nRequestId:012cb564-e01e-00c2-1451-79f454000000\nTime:2025-02-07T11:13:03.7040028Z</Message></Error>"
     ]
    }
   ],
   "source": [
    "# function to upload file to blob storage\n",
    "def uploadToBlobStorage(file_path,file_name):\n",
    "   blob_service_client = BlobServiceClient.from_connection_string(connection_string)\n",
    "   blob_client = blob_service_client.get_blob_client(container=container_name, blob=file_name)\n",
    "   with open(file_path,\"rb\") as data:\n",
    "      blob_client.upload_blob(data)\n",
    "      print(f\"Uploaded {file_name}.\")\n",
    "\n",
    "# calling a function to perform upload\n",
    "uploadToBlobStorage('img.jpg','img1')"
   ]
  },
  {
   "cell_type": "markdown",
   "metadata": {
    "id": "IjvrLWSk37Hq"
   },
   "source": [
    "# Téléchargement d'un fichier"
   ]
  },
  {
   "cell_type": "code",
   "execution_count": 6,
   "metadata": {
    "executionInfo": {
     "elapsed": 325,
     "status": "ok",
     "timestamp": 1738753188593,
     "user": {
      "displayName": "Kévin Duranty",
      "userId": "17936416485008719452"
     },
     "user_tz": -60
    },
    "id": "H1OW6YEX37Hr"
   },
   "outputs": [],
   "source": [
    "import os\n",
    "\n",
    "# function to download file from blob storage\n",
    "def download_blob_to_file(file_name, file_path):\n",
    "    blob_service_client = BlobServiceClient.from_connection_string(connection_string)\n",
    "    blob_client = blob_service_client.get_blob_client(container=container_name, blob=file_name)\n",
    "    with open(file=file_path, mode=\"wb\") as sample_blob:\n",
    "        download_stream = blob_client.download_blob()\n",
    "        sample_blob.write(download_stream.readall())\n",
    "\n",
    "# calling a function to perform download\n",
    "download_blob_to_file('img1','img2.jpeg')"
   ]
  },
  {
   "cell_type": "markdown",
   "metadata": {
    "id": "jS5s5V5137Hr"
   },
   "source": [
    "### Exercice 1 : Créer un container\n",
    "\n",
    "1. Créer un container intitulé `nom_train` dans le compte Azure Storage `Ynov` puis uploadez les fichiers contenues dans le dossier `nom_train` dans ce container.\n",
    "\n",
    "2. Créer un container intitulé `nom_validation` dans le compte Azure Storage `Ynov` puis uploadez les fichiers contenues dans le dossier `nom_validation` dans ce container.\n",
    "\n",
    "3. Créez une fonction capable de lister les fichiers contenus dans un container. Ressources utiles :\n",
    "https://learn.microsoft.com/en-us/azure/storage/blobs/storage-blobs-list-python\n",
    "\n",
    "4. Créez une fonction capable de télécharger un fichier d'un container à partir d'une liste de fichiers."
   ]
  },
  {
   "cell_type": "code",
   "execution_count": 13,
   "metadata": {
    "executionInfo": {
     "elapsed": 558,
     "status": "ok",
     "timestamp": 1738754842565,
     "user": {
      "displayName": "Kévin Duranty",
      "userId": "17936416485008719452"
     },
     "user_tz": -60
    },
    "id": "-pU_PLA737Hs"
   },
   "outputs": [],
   "source": [
    "def show_files(container_name, connection_string) -> list:\n",
    "    blob_service_client = BlobServiceClient.from_connection_string(connection_string)\n",
    "    return [ u.name for u in blob_service_client.get_container_client(container = container_name).list_blobs()]"
   ]
  },
  {
   "cell_type": "code",
   "execution_count": 14,
   "metadata": {
    "colab": {
     "base_uri": "https://localhost:8080/"
    },
    "executionInfo": {
     "elapsed": 2,
     "status": "ok",
     "timestamp": 1738754843361,
     "user": {
      "displayName": "Kévin Duranty",
      "userId": "17936416485008719452"
     },
     "user_tz": -60
    },
    "id": "Kb_Wef-D37Hs",
    "outputId": "9bc1e7ff-e0c0-467e-b835-43aaf98948ef"
   },
   "outputs": [
    {
     "data": {
      "text/plain": [
       "['img1']"
      ]
     },
     "execution_count": 14,
     "metadata": {},
     "output_type": "execute_result"
    }
   ],
   "source": [
    "show_files('storageynov', connection_string)"
   ]
  },
  {
   "cell_type": "code",
   "execution_count": 15,
   "metadata": {
    "colab": {
     "base_uri": "https://localhost:8080/"
    },
    "executionInfo": {
     "elapsed": 815,
     "status": "ok",
     "timestamp": 1738754914142,
     "user": {
      "displayName": "Kévin Duranty",
      "userId": "17936416485008719452"
     },
     "user_tz": -60
    },
    "id": "JEmDgbxb37Hs",
    "outputId": "f4fe247f-a821-4001-98a2-c77394a60f23"
   },
   "outputs": [
    {
     "name": "stdout",
     "output_type": "stream",
     "text": [
      "Uploaded california_test.\n",
      "Uploaded california_train.\n"
     ]
    }
   ],
   "source": [
    "uploadToBlobStorage('/content/sample_data/california_housing_test.csv','california_test')\n",
    "uploadToBlobStorage('/content/sample_data/california_housing_train.csv','california_train')"
   ]
  },
  {
   "cell_type": "code",
   "execution_count": null,
   "metadata": {
    "id": "jHp5RlAG37Hs"
   },
   "outputs": [],
   "source": []
  },
  {
   "cell_type": "code",
   "execution_count": null,
   "metadata": {
    "id": "z-0iNgUt37Hs"
   },
   "outputs": [],
   "source": []
  },
  {
   "cell_type": "markdown",
   "metadata": {
    "id": "FXSQXBGm37Hs"
   },
   "source": [
    "### Exercice 2 : Déployement d'une image Docker dans une machine virtuelle Azure\n",
    "\n",
    "1.  L'entraînement du modèle de classification est contenu dans le fichier `train.py`. Modifier ce fichier afin de télécharger les données d'entrainement et de validation depuis votre compte Azure Storage.\n",
    "\n",
    "\n",
    "2. Créer une image Docker à partir du fichier `Dockerfile` permettant l'entrainement d'un modèle de machine learning, déployez ensuite votre image sur DockerHub.\n",
    "\n",
    "\n",
    "3. Créez une machine virtuelle Azure et déployez l'image Docker dans cette machine virtuelle.\n",
    "\n",
    "\n",
    "4. Lancez l'entrainement du modèle de machine learning dans la machine virtuelle Azure à partir de votre image Docker."
   ]
  },
  {
   "cell_type": "code",
   "execution_count": null,
   "metadata": {
    "id": "yuFhXl8y4Sah"
   },
   "outputs": [],
   "source": []
  },
  {
   "cell_type": "code",
   "execution_count": null,
   "metadata": {
    "id": "ftAJ621x4SS0"
   },
   "outputs": [],
   "source": []
  }
 ],
 "metadata": {
  "colab": {
   "provenance": []
  },
  "kernelspec": {
   "display_name": "venv",
   "language": "python",
   "name": "python3"
  },
  "language_info": {
   "codemirror_mode": {
    "name": "ipython",
    "version": 3
   },
   "file_extension": ".py",
   "mimetype": "text/x-python",
   "name": "python",
   "nbconvert_exporter": "python",
   "pygments_lexer": "ipython3",
   "version": "3.10.11"
  },
  "orig_nbformat": 4
 },
 "nbformat": 4,
 "nbformat_minor": 0
}
